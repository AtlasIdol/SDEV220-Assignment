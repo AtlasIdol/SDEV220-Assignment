{
 "cells": [
  {
   "cell_type": "code",
   "execution_count": 1,
   "id": "cbb3ca52",
   "metadata": {},
   "outputs": [
    {
     "name": "stdout",
     "output_type": "stream",
     "text": [
      "too low\n"
     ]
    }
   ],
   "source": [
    "# 4.1 Choose a number between 1 and 10 and assign it to the variable secret. \n",
    "# Then, select another number between 1 and 10 and assign it to the variable guess. \n",
    "# Next, write the conditional tests (if, else, and elif) to print the string 'too low' if guess is less than secret, \n",
    "# 'too high' if greater than secret, and 'just right' if equal to secret.\n",
    "secret = 7\n",
    "guess = 1\n",
    "if guess == secret:\n",
    "    print('just right')\n",
    "elif guess > secret:\n",
    "    print('too high')\n",
    "else:\n",
    "    print('too low')"
   ]
  },
  {
   "cell_type": "code",
   "execution_count": 2,
   "id": "ab77796e",
   "metadata": {},
   "outputs": [
    {
     "name": "stdout",
     "output_type": "stream",
     "text": [
      "Bet I can guess what you have!\n",
      "Here are the items you might have:\n",
      "pea, cherry, watermelon, pumpkin\n",
      "Please enter a number below that corresponds with the characteristics of what you have:\n",
      "(1) small\n",
      "(2) green\n",
      "(3) both\n",
      "(4) neither\n",
      "1\n",
      "Cherries Jubilee!\n",
      "and your lucky number for today is: 82\n"
     ]
    }
   ],
   "source": [
    "# 4.2 Assign True or False to the variables small and green.\n",
    "# Write some if/else statements to print which of these matches those choices: cherry, pea, watermelon, pumpkin.\n",
    "import random\n",
    "\n",
    "small, green = False, False\n",
    "\n",
    "print(\"Bet I can guess what you have!\")\n",
    "print(\"Here are the items you might have:\")\n",
    "print(\"pea, cherry, watermelon, pumpkin\")\n",
    "print(\"Please enter a number below that corresponds with the characteristics of what you have:\")\n",
    "print(\"(1) small\")\n",
    "print(\"(2) green\")\n",
    "print(\"(3) both\")\n",
    "print(\"(4) neither\")\n",
    "choice = input(\"\")\n",
    "\n",
    "if int(choice) == 1:\n",
    "  small = True\n",
    "  green = False\n",
    "elif int(choice) == 2:\n",
    "  small = False\n",
    "  green = True\n",
    "elif int(choice) == 3:\n",
    "  small = True\n",
    "  green = True\n",
    "else:\n",
    "  small = False\n",
    "  green = False\n",
    "\n",
    "if small and green:\n",
    "  print(\"It's a pea!\")\n",
    "elif small and not green:\n",
    "  print(\"Cherries Jubilee!\")\n",
    "elif not small and green:\n",
    "  print(\"Nice watermelon!\")\n",
    "elif not small and not green:\n",
    "  print(\"The Great Pumpkin, Charlie Brown!\")\n",
    "\n",
    "print(f\"and your lucky number for today is: {random.randint(1, 100)}\")"
   ]
  },
  {
   "cell_type": "code",
   "execution_count": 3,
   "id": "7c6a32e1",
   "metadata": {},
   "outputs": [
    {
     "name": "stdout",
     "output_type": "stream",
     "text": [
      "3\n",
      "2\n",
      "1\n",
      "0\n"
     ]
    }
   ],
   "source": [
    "# 6.1 Use a for loop to print the values of the list [3, 2, 1, 0].\n",
    "my_list = [3,2,1,0]\n",
    "for item in my_list:\n",
    "    print(item)\n"
   ]
  },
  {
   "cell_type": "code",
   "execution_count": 4,
   "id": "16d27435",
   "metadata": {},
   "outputs": [
    {
     "name": "stdout",
     "output_type": "stream",
     "text": [
      "1 is too low!\n",
      "2 is too low!\n",
      "3 is too low!\n",
      "4 is too low!\n",
      "5 is too low!\n",
      "6 is too low!\n",
      "found it!\n"
     ]
    }
   ],
   "source": [
    "#6.2 Assign the value 7 to the variable guess_me, and the value 1 to the variable number. \n",
    "# Write a while loop that compares number with guess_me. Print 'too low' if number is less than guess me. \n",
    "# If number equals guess_me, print 'found it!' and then exit the loop. \n",
    "# If number is greater than guess_me, print 'oops' and then exit the loop. Increment number at the end of the loop.\n",
    "guess_me = 7\n",
    "number = 1\n",
    "while number < 10:\n",
    "    if number == guess_me:\n",
    "        print('found it!')\n",
    "        break\n",
    "    elif number < guess_me:\n",
    "        print(f'{number} is too low!')\n",
    "    elif number > guess_me:\n",
    "        print('oops!')\n",
    "        break\n",
    "    number += 1\n"
   ]
  },
  {
   "cell_type": "code",
   "execution_count": 5,
   "id": "7a8fb92c",
   "metadata": {},
   "outputs": [
    {
     "name": "stdout",
     "output_type": "stream",
     "text": [
      "too low\n",
      "too low\n",
      "too low\n",
      "too low\n",
      "too low\n",
      "found it!\n"
     ]
    }
   ],
   "source": [
    "#6.3 Assign the value 5 to the variable guess_me. \n",
    "# Use a for loop to iterate a variable called number over range(10). \n",
    "# If number is less than guess_me, print 'too low'. \n",
    "# If it equals guess_me, print found it! and then break out of the for loop. \n",
    "# If number is greater than guess_me, print 'oops' and then exit the loop.\n",
    "guess_me = 5\n",
    "for i in range(10):\n",
    "    if i == guess_me:\n",
    "        print('found it!')\n",
    "        break\n",
    "    elif i < guess_me:\n",
    "        print('too low')\n",
    "    elif i > guess_me:\n",
    "        print('oops')\n",
    "        break\n"
   ]
  }
 ],
 "metadata": {
  "kernelspec": {
   "display_name": "Python 3 (ipykernel)",
   "language": "python",
   "name": "python3"
  },
  "language_info": {
   "codemirror_mode": {
    "name": "ipython",
    "version": 3
   },
   "file_extension": ".py",
   "mimetype": "text/x-python",
   "name": "python",
   "nbconvert_exporter": "python",
   "pygments_lexer": "ipython3",
   "version": "3.11.5"
  }
 },
 "nbformat": 4,
 "nbformat_minor": 5
}
