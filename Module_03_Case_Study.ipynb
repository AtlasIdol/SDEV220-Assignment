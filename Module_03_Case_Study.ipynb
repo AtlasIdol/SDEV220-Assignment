{
 "cells": [
  {
   "cell_type": "code",
   "execution_count": null,
   "id": "8b184d58",
   "metadata": {},
   "outputs": [],
   "source": [
    "'''\n",
    "casestudy.py\n",
    "Author: Timothy Gist\n",
    "Description: An application that accepts about a users car, and using \n",
    "that data as class attributes, uses a class method to display the data.  \n",
    "'''\n",
    "\n",
    "class Vehicle():\n",
    "    def __init__(self, type, year, make, model, doors, roof):\n",
    "        self.type = type\n",
    "        self.year = year\n",
    "        self.make = make\n",
    "        self.model = model\n",
    "        self.doors = doors\n",
    "        self.roof = roof\n",
    "\n",
    "\n",
    "class Automobile(Vehicle):\n",
    "    def __int__(self):\n",
    "        super().__init__(self, type, year, make, model, doors, roof)\n",
    "\n",
    "\n",
    "    def get_attributes(self):\n",
    "        print('Here is the car you described:')\n",
    "        print(f'Vehicle Type: {self.type}')\n",
    "        print(f'Year: {self.year}')\n",
    "        print(f'Make: {self.make}')\n",
    "        print(f'Model: {self.model}')\n",
    "        print(f'Number of Doors: {self.doors}')\n",
    "        print(f'Type of Roof: {self.roof}')\n",
    "\n",
    "\n",
    "print(\"Let's talk about your car!\")\n",
    "year = int(input('Tell me what year your car is: '))\n",
    "make = input('Now tell me who manufactured your car: ')\n",
    "model = input('Now tell me the model of this beauty: ')\n",
    "doors = int(input('Can you tell me how many doors your car has?: '))\n",
    "roof = input('Please describe the kind of roof on your car: ')\n",
    "vtype = 'car'\n",
    "mycar = Automobile(vtype, year, make, model, doors, roof)\n",
    "mycar.get_attributes()\n",
    "\n",
    "\n"
   ]
  }
 ],
 "metadata": {
  "kernelspec": {
   "display_name": "Python 3 (ipykernel)",
   "language": "python",
   "name": "python3"
  },
  "language_info": {
   "codemirror_mode": {
    "name": "ipython",
    "version": 3
   },
   "file_extension": ".py",
   "mimetype": "text/x-python",
   "name": "python",
   "nbconvert_exporter": "python",
   "pygments_lexer": "ipython3",
   "version": "3.11.5"
  }
 },
 "nbformat": 4,
 "nbformat_minor": 5
}
