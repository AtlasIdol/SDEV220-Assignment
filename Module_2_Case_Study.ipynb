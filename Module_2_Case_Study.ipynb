{
 "cells": [
  {
   "cell_type": "code",
   "execution_count": 1,
   "id": "e4627946",
   "metadata": {},
   "outputs": [
    {
     "name": "stdout",
     "output_type": "stream",
     "text": [
      "If you wish to quit, enter 'ZZZ' for the student's last name.\n",
      "Please enter the student's last name: ZZZ\n",
      "Your lucky number is: 11\n",
      "Goodbye!\n"
     ]
    }
   ],
   "source": [
    "'''\n",
    "casestudy.py\n",
    "Author: Timothy Gist\n",
    "Description: An application that accepts a student name and GPA and \n",
    "determines if that student with that GPA has earned the Dean's List or the Honor Roll. \n",
    "'''\n",
    "\n",
    "import random\n",
    "\n",
    "while True:\n",
    "  print(\"If you wish to quit, enter 'ZZZ' for the student's last name.\")\n",
    "  student_lname = input(\"Please enter the student's last name: \")\n",
    "  if student_lname == 'ZZZ':\n",
    "    lucky = random.randint(1,100)\n",
    "    print(f\"Your lucky number is: {lucky}\")\n",
    "    if lucky == 47:\n",
    "      print(\"And today you are extra lucky!\")\n",
    "    print(\"Goodbye!\")\n",
    "    break\n",
    "  student_fname = input(\"Please enter the student's first name: \")\n",
    "  student_GPA = float(input(\"Please enter the student's GPA: \"))\n",
    "  print(\"\")\n",
    "  if student_GPA >= 3.5:\n",
    "    print(f\"Congratulations, {student_fname} {student_lname}, you have earned the Dean's List!\")\n",
    "    print(\"\")\n",
    "  elif student_GPA >= 3.25 and student_GPA < 3.5:\n",
    "    print(f\"Congratulations, {student_fname} {student_lname}, you have earned the Honor Roll!\")\n",
    "    print(\"\")\n",
    "  else:\n",
    "    print(f\"Sorry, {student_fname} {student_lname}, you did not earn the Honor Roll or the Dean's List.\")\n",
    "    print(\"\")\n",
    "    "
   ]
  }
 ],
 "metadata": {
  "kernelspec": {
   "display_name": "Python 3 (ipykernel)",
   "language": "python",
   "name": "python3"
  },
  "language_info": {
   "codemirror_mode": {
    "name": "ipython",
    "version": 3
   },
   "file_extension": ".py",
   "mimetype": "text/x-python",
   "name": "python",
   "nbconvert_exporter": "python",
   "pygments_lexer": "ipython3",
   "version": "3.11.5"
  }
 },
 "nbformat": 4,
 "nbformat_minor": 5
}
