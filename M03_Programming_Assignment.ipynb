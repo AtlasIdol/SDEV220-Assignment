{
 "cells": [
  {
   "cell_type": "code",
   "execution_count": null,
   "id": "acf4d325",
   "metadata": {},
   "outputs": [],
   "source": [
    "# Timothy Gist\n",
    "# M03_Programming_Assignment\n",
    "# 7.4\n",
    "things = ['mozzarella', 'cinderella', 'salmonella']\n",
    "\n",
    "# 7.5\n",
    "print(things)\n",
    "for thing in things:\n",
    "    if thing == 'cinderella':\n",
    "        things.pop(things.index(thing))\n",
    "        things.append(thing.capitalize())\n",
    "\n",
    "print(things)\n",
    "# Notice how the list has changed\n",
    "\n",
    "# 7.6\n",
    "for thing in things:\n",
    "    if thing == 'mozzarella':\n",
    "        things.pop(things.index(thing))\n",
    "        things.append(thing.upper())\n",
    "\n",
    "print(things)\n",
    "\n",
    "# 7.7\n",
    "for thing in things:\n",
    "    if thing == 'salmonella':\n",
    "        things.pop(things.index(thing))\n",
    "\n",
    "print('I want to thank everyone who supported my efforts in being awarded this Nobel Prize')\n",
    "print(things)"
   ]
  },
  {
   "cell_type": "code",
   "execution_count": null,
   "id": "ca7f4469",
   "metadata": {},
   "outputs": [],
   "source": [
    "# 9.1\n",
    "def good():\n",
    "    return ['Harry', 'Ron', 'Hermione']\n",
    "\n",
    "# 9.2\n",
    "def get_odds(first=1, last=10, step=1):\n",
    "    number = first\n",
    "    while number <= last:\n"
    "        if number % 2 != 0:\n",
    "        yield number\n",
    "        number += step\n",
    "\n",
    "odds = get_odds()\n",
    "count = 0\n",
    "for number in odds:\n",
    "    count += 1\n",
    "    if count == 3:\n",
    "        print(f'The third number from 1 to 10 is {number}')\n",
    "        break"
   ]
  }
 ],
 "metadata": {
  "kernelspec": {
   "display_name": "Python 3 (ipykernel)",
   "language": "python",
   "name": "python3"
  },
  "language_info": {
   "codemirror_mode": {
    "name": "ipython",
    "version": 3
   },
   "file_extension": ".py",
   "mimetype": "text/x-python",
   "name": "python",
   "nbconvert_exporter": "python",
   "pygments_lexer": "ipython3",
   "version": "3.11.5"
  }
 },
 "nbformat": 4,
 "nbformat_minor": 5
}
