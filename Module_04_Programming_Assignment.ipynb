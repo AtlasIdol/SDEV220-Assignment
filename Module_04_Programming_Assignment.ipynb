{
 "cells": [
  {
   "cell_type": "code",
   "execution_count": null,
   "id": "41ad5a22",
   "metadata": {},
   "outputs": [],
   "source": [
    "import sqlite3\n",
    "import random\n",
    "\n",
    "conn = sqlite3.connect(\"StudentDB.db\")\n",
    "cur = conn.cursor()\n",
    "\n",
    "cur.executescript(\"\"\"CREATE TABLE IF NOT EXISTS student_info_table(\n",
    "                     StudentID TEXT,\n",
    "                     FirstName TEXT,\n",
    "                     LastName TEXT,\n",
    "                     Email TEXT,\n",
    "                     ProgramID TEXT\n",
    "                     );\n",
    "                     CREATE TABLE IF NOT EXISTS program_table(\n",
    "                     ProgramID TEXT,\n",
    "                     ProgramName TEXT,\n",
    "                     DepartmentID TEXT \n",
    "                     );\n",
    "                     CREATE TABLE IF NOT EXISTS department_table(\n",
    "                     DepartmentID TEXT,\n",
    "                     DepartmentName TEXT\n",
    "                     )\n",
    "                     \"\"\")\n",
    "\n",
    "cur.execute(\"\"\"INSERT INTO student_info_table(StudentID, FirstName,\n",
    "                     LastName, Email, ProgramID)VALUES\n",
    "                     ('S001','James Henry','Sears','jhsears@ivytech.edu','P001'),\n",
    "                     ('S002','John','Smith','jsmith001@ivytech.edu','P001'),\n",
    "                     ('S003','John','Jones','jjones002@ivytech.edu','P002'),\n",
    "                     ('S004','Jackson','Brown','jbrown003@ivytech.edu','P002'),\n",
    "                     ('S005','Lonesome','Dove','ldove004@ivytech.edu','P003');\n",
    "                     \"\"\")\n",
    "\n",
    "cur.execute(\"\"\"INSERT INTO program_table(ProgramID, ProgramName, DepartmentID)VALUES\n",
    "                     ('P001','Agriculture','D001'),\n",
    "                     ('P002','Computer Science','D002'),\n",
    "                     ('P003','Journalism','D003');\n",
    "                     \"\"\")\n",
    "\n",
    "cur.execute(\"\"\"INSERT INTO department_table(DepartmentID, DepartmentName)VALUES\n",
    "                     ('D001','Department of Agricultural Science'),\n",
    "                     ('D002','Department of Information Technology');\n",
    "                     \"\"\")\n",
    "\n",
    "conn.commit()\n",
    "conn.close()\n",
    "\n",
    "lucky = random.randint(1, 100)\n",
    "print('If you experienced no error messages, this code ran successfully!')\n",
    "print(f'And your lucky number today is {lucky}')\n",
    "\n"
   ]
  }
 ],
 "metadata": {
  "kernelspec": {
   "display_name": "Python 3 (ipykernel)",
   "language": "python",
   "name": "python3"
  },
  "language_info": {
   "codemirror_mode": {
    "name": "ipython",
    "version": 3
   },
   "file_extension": ".py",
   "mimetype": "text/x-python",
   "name": "python",
   "nbconvert_exporter": "python",
   "pygments_lexer": "ipython3",
   "version": "3.11.5"
  }
 },
 "nbformat": 4,
 "nbformat_minor": 5
}
